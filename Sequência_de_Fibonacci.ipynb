{
  "nbformat": 4,
  "nbformat_minor": 0,
  "metadata": {
    "colab": {
      "provenance": [],
      "authorship_tag": "ABX9TyMJeD7LuWAPmpyOy1ADTibX",
      "include_colab_link": true
    },
    "kernelspec": {
      "name": "python3",
      "display_name": "Python 3"
    },
    "language_info": {
      "name": "python"
    }
  },
  "cells": [
    {
      "cell_type": "markdown",
      "metadata": {
        "id": "view-in-github",
        "colab_type": "text"
      },
      "source": [
        "<a href=\"https://colab.research.google.com/github/matheustoneti/Fibonaccisequence/blob/main/Sequ%C3%AAncia_de_Fibonacci.ipynb\" target=\"_parent\"><img src=\"https://colab.research.google.com/assets/colab-badge.svg\" alt=\"Open In Colab\"/></a>"
      ]
    },
    {
      "cell_type": "code",
      "execution_count": 5,
      "metadata": {
        "colab": {
          "base_uri": "https://localhost:8080/"
        },
        "id": "I3vt-B6zHRTg",
        "outputId": "045538cd-5cac-453b-f973-c0950a82b27c"
      },
      "outputs": [
        {
          "output_type": "stream",
          "name": "stdout",
          "text": [
            "How many factors of the Fibonacci sequence do you want to generate?0\n",
            "0 is a invalid number, please, enter again0\n",
            "0 is a invalid number, please, enter again0\n",
            "0 is a invalid number, please, enter again15\n",
            "1\n",
            "1\n",
            "2\n",
            "3\n",
            "5\n",
            "8\n",
            "13\n",
            "21\n",
            "34\n",
            "55\n",
            "89\n",
            "144\n",
            "233\n",
            "377\n",
            "610\n"
          ]
        }
      ],
      "source": [
        "\n",
        "contador = int(input ('How many factors of the Fibonacci sequence do you want to generate?'))\n",
        "\n",
        "num1 = 0\n",
        "num2 = 1\n",
        "while contador ==0:\n",
        "  contador = int(input ('0 is a invalid number, please, enter again'))\n",
        "if contador == 1:\n",
        "  print('1')\n",
        "else:\n",
        "  print ('1')\n",
        "  for i in range (contador-1):\n",
        "    num3 = num2 + num1\n",
        "    print (num3)\n",
        "    num1 = num2\n",
        "    num2 = num3\n",
        "\n",
        "\n"
      ]
    },
    {
      "cell_type": "code",
      "source": [],
      "metadata": {
        "id": "B1F_SPe5R_tL"
      },
      "execution_count": null,
      "outputs": []
    }
  ]
}